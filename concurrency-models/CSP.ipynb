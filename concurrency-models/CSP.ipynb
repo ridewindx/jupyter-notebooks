{
 "cells": [
  {
   "cell_type": "markdown",
   "metadata": {
    "deletable": true,
    "editable": true,
    "slideshow": {
     "slide_type": "slide"
    }
   },
   "source": [
    "# CSP\n",
    "**通信顺序进程，Communicating Sequential Process**"
   ]
  },
  {
   "cell_type": "markdown",
   "metadata": {
    "deletable": true,
    "editable": true,
    "slideshow": {
     "slide_type": "subslide"
    }
   },
   "source": [
    "- Tony Hoare, 1977\n",
    "- A concurrent programming language\n",
    "- A process calculi/algebra"
   ]
  },
  {
   "cell_type": "markdown",
   "metadata": {
    "collapsed": true,
    "deletable": true,
    "editable": true,
    "slideshow": {
     "slide_type": "subslide"
    }
   },
   "source": [
    "- 不关注发送消息的**process（进程/主体）**\n",
    "- 关注发送消息时使用的**channel（通道）**"
   ]
  },
  {
   "cell_type": "markdown",
   "metadata": {
    "deletable": true,
    "editable": true,
    "slideshow": {
     "slide_type": "subslide"
    }
   },
   "source": [
    "- process类似于Actor模型中的Actor，channel类似于Mailbox\n",
    "- channel是一级对象，不与process紧耦合，而Mailbox是绑定至Actor的\n",
    "- channel可以单独创建和读写，并在process间传递\n",
    "- process可以没有实体，可以订阅任意个channel或向任意个channel发送消息"
   ]
  },
  {
   "cell_type": "markdown",
   "metadata": {
    "deletable": true,
    "editable": true,
    "slideshow": {
     "slide_type": "slide"
    }
   },
   "source": [
    "# Go语言中的Goroutine和Channel\n",
    "\n",
    "CSP模型的一种**语言级**实现（不完全，变体）"
   ]
  },
  {
   "cell_type": "markdown",
   "metadata": {
    "deletable": true,
    "editable": true,
    "slideshow": {
     "slide_type": "subslide"
    }
   },
   "source": [
    "- 消息通过channel在goroutine之间传递\n",
    "- goroutine是process，是主体/执行体\n",
    "- channel是通道"
   ]
  },
  {
   "cell_type": "markdown",
   "metadata": {
    "deletable": true,
    "editable": true,
    "slideshow": {
     "slide_type": "subslide"
    }
   },
   "source": [
    "传统进程模型中上下文切换的开销：\n",
    "- 存储和恢复所有寄存器的内容\n",
    "- 刷新TLB cache（改变虚拟地址到物理地址的映射）\n",
    "- OS调度选择下一个进程"
   ]
  },
  {
   "cell_type": "markdown",
   "metadata": {
    "deletable": true,
    "editable": true,
    "slideshow": {
     "slide_type": "subslide"
    }
   },
   "source": [
    "传统线程模型：\n",
    "- 类似于进程模型\n",
    "- 但共享内存地址空间，上下文切换开销小了一点"
   ]
  },
  {
   "cell_type": "markdown",
   "metadata": {
    "deletable": true,
    "editable": true,
    "slideshow": {
     "slide_type": "slide"
    }
   },
   "source": [
    "# Goroutine"
   ]
  },
  {
   "cell_type": "markdown",
   "metadata": {
    "deletable": true,
    "editable": true,
    "slideshow": {
     "slide_type": "subslide"
    }
   },
   "source": [
    "```Go\n",
    "f() // call f(); wait for it to return\n",
    "go f() // create a new goroutine that calls f(); don't wait\n",
    "```"
   ]
  },
  {
   "cell_type": "markdown",
   "metadata": {
    "deletable": true,
    "editable": true,
    "slideshow": {
     "slide_type": "subslide"
    }
   },
   "source": [
    "- 可动态增长的栈，初始很小（比如2KB，相比于线程栈典型大小2MB）\n",
    "- M:N调度，M个goroutine复用N个OS线程\n",
    "- GOMAXPROCS决定OS线程数\n",
    "- goroutine没有标识（id）"
   ]
  },
  {
   "cell_type": "markdown",
   "metadata": {
    "deletable": true,
    "editable": true,
    "slideshow": {
     "slide_type": "slide"
    }
   },
   "source": [
    "## 调度"
   ]
  },
  {
   "cell_type": "markdown",
   "metadata": {
    "deletable": true,
    "editable": true,
    "slideshow": {
     "slide_type": "subslide"
    }
   },
   "source": [
    "**协作式调度（cooperative scheduling）**，不同于进程或线程模型的时间分片式或抢占式调度\n",
    "\n",
    "> 主动式调度，不同于被动式调度\n",
    ">\n",
    "> 知道的更多，因而更优地调度"
   ]
  },
  {
   "cell_type": "markdown",
   "metadata": {
    "deletable": true,
    "editable": true,
    "slideshow": {
     "slide_type": "subslide"
    }
   },
   "source": [
    "确定性的调度点：\n",
    "- channel的发送和接收操作，如果阻塞\n",
    "- go语句，尽管新goroutine不一定立即被调度到\n",
    "- 阻塞式的系统调用，如文件/网络IO\n",
    "- 垃圾回收时"
   ]
  },
  {
   "cell_type": "markdown",
   "metadata": {
    "deletable": true,
    "editable": true,
    "slideshow": {
     "slide_type": "subslide"
    }
   },
   "source": [
    "- M:1调度，上下文切换快，但不能有效利用多核\n",
    "- 1:1调度，上下文切换代价太大\n",
    "- M:N调度，上下文切换快，且能有效利用多核"
   ]
  },
  {
   "cell_type": "markdown",
   "metadata": {
    "deletable": true,
    "editable": true,
    "slideshow": {
     "slide_type": "subslide"
    }
   },
   "source": [
    "M: 线程，P: 调度上下文/调度处理器，G: goroutine（蓝色正运行，灰色待调度）\n",
    "\n",
    "- P的个数等于GOMAXPROCS\n",
    "- 每个P都有一个runqueue，待调度的goroutine被队列到runqueue\n",
    "- 调度实际上就是P从runqueue取出一个goroutine，切换上下文，并执行它\n",
    "\n",
    "\n",
    "![](go-scheduler-in-motion.jpg)"
   ]
  },
  {
   "cell_type": "markdown",
   "metadata": {
    "deletable": true,
    "editable": true,
    "slideshow": {
     "slide_type": "subslide"
    }
   },
   "source": [
    "当某个goroutine在某个线程上发生阻塞系统调用时：\n",
    "\n",
    "- 调度处理器被卸载掉，并转移到另一个线程上（可以新建，也可以从线程池中取出）\n",
    "- 当原goroutine从阻塞调用返回时，会试图从其它线程“偷”一个调度处理器\n",
    "- 如果“偷”失败了，则将它放入**全局runqueue**，而原线程返回给线程池\n",
    "- 调度处理器会在自己的runqueue为空时和周期检查时，从全局runqueue取出goroutine\n",
    "\n",
    "![](go-scheduler-syscall.jpg)"
   ]
  },
  {
   "cell_type": "markdown",
   "metadata": {
    "deletable": true,
    "editable": true,
    "slideshow": {
     "slide_type": "subslide"
    }
   },
   "source": [
    "- 如果全局runqueue也为空，则调度处理器会从其它调度处理器“偷”来**一半**数目的goroutine\n",
    "\n",
    "> 达成一种“负载均衡”\n",
    "\n",
    "![](go-scheduler-steal.jpg)"
   ]
  },
  {
   "cell_type": "markdown",
   "metadata": {
    "deletable": true,
    "editable": true,
    "slideshow": {
     "slide_type": "slide"
    }
   },
   "source": [
    "## 栈"
   ]
  },
  {
   "cell_type": "markdown",
   "metadata": {
    "deletable": true,
    "editable": true,
    "slideshow": {
     "slide_type": "subslide"
    }
   },
   "source": [
    "- 进程虚拟地址空间中栈和堆，以及保护页\n",
    "\n",
    "![](guard-page.png)"
   ]
  },
  {
   "cell_type": "markdown",
   "metadata": {
    "deletable": true,
    "editable": true,
    "slideshow": {
     "slide_type": "subslide"
    }
   },
   "source": [
    "- 每个线程都有自己的栈和保护页\n",
    "- 线程栈大小固定，不能太小，也不能太大\n",
    "- 线程越多，则虚拟地址空间被浪费越多\n",
    "\n",
    "![](threads.png)"
   ]
  },
  {
   "cell_type": "markdown",
   "metadata": {
    "deletable": true,
    "editable": true,
    "slideshow": {
     "slide_type": "subslide"
    }
   },
   "source": [
    "- 每个goroutine的栈初始很小（比如2KB），从**heap**分配\n",
    "- 不使用保护页，而是在每个函数调用时检查栈大小是否够用\n",
    "- 如果栈小了，则分配更大的内存，拷贝到新栈，释放原来的栈\n",
    "- 如果栈大了，则一部分会被垃圾回收\n",
    "\n",
    "![](goroutine-stack-growth.png)"
   ]
  },
  {
   "cell_type": "markdown",
   "metadata": {
    "deletable": true,
    "editable": true,
    "slideshow": {
     "slide_type": "slide"
    }
   },
   "source": [
    "# Channel"
   ]
  },
  {
   "cell_type": "markdown",
   "metadata": {
    "deletable": true,
    "editable": true,
    "slideshow": {
     "slide_type": "subslide"
    }
   },
   "source": [
    "```Go\n",
    "ch := make(chan int) // 创建channel，收发int类型消息\n",
    "\n",
    "ch <- x // 发送消息\n",
    "x = <-ch // 接收并赋值消息\n",
    "<-ch // 接收但丢弃消息\n",
    "\n",
    "close(ch) // 关闭channel\n",
    "```"
   ]
  },
  {
   "cell_type": "markdown",
   "metadata": {
    "deletable": true,
    "editable": true,
    "slideshow": {
     "slide_type": "subslide"
    }
   },
   "source": [
    "```Go\n",
    "ch = make(chan int) // 无缓冲channel\n",
    "ch = make(chan int, 0) // 无缓冲channel\n",
    "ch = make(chan int, 3) // 缓冲channel，容量为3\n",
    "```"
   ]
  },
  {
   "cell_type": "markdown",
   "metadata": {
    "deletable": true,
    "editable": true,
    "slideshow": {
     "slide_type": "subslide"
    }
   },
   "source": [
    "**无缓冲channel**，也称为**同步channel**\n",
    "> 在无缓冲channel上的一次发送和接收操作\n",
    ">\n",
    "> 导致发送和接收goroutine做了一次同步操作\n",
    ">\n",
    "> 接收者收到数据发生在唤醒发送者goroutine之前（happens before）"
   ]
  },
  {
   "cell_type": "markdown",
   "metadata": {
    "deletable": true,
    "editable": true,
    "slideshow": {
     "slide_type": "subslide"
    }
   },
   "source": [
    "**缓冲channel**，可以看作是**消息队列**"
   ]
  },
  {
   "cell_type": "markdown",
   "metadata": {
    "deletable": true,
    "editable": true,
    "slideshow": {
     "slide_type": "fragment"
    }
   },
   "source": [
    "![](empty-buffered-channel.png)"
   ]
  },
  {
   "cell_type": "code",
   "execution_count": 20,
   "metadata": {
    "collapsed": false,
    "deletable": true,
    "editable": true,
    "slideshow": {
     "slide_type": "fragment"
    }
   },
   "outputs": [
    {
     "data": {
      "text/plain": [
       "http://www.qq.com: 200 OK\n",
       "https://www.baidu.com: 200 OK\n",
       "https://www.taobao.com: 200 OK\n"
      ]
     },
     "execution_count": 20,
     "metadata": {},
     "output_type": "execute_result"
    }
   ],
   "source": [
    "import (\n",
    "    \"net/http\"\n",
    "    \"time\"\n",
    ")\n",
    "\n",
    "request := func(url string) *http.Response {\n",
    "    rep, _ := http.Get(url)\n",
    "    return rep\n",
    "}\n",
    "\n",
    "responses := make(chan *http.Response, 3)\n",
    "go func() { responses <- request(\"https://www.baidu.com\") }()\n",
    "go func() { responses <- request(\"https://www.taobao.com\") }()\n",
    "go func() { responses <- request(\"http://www.qq.com\") }()\n",
    "go func() { time.Sleep(100*time.Millisecond); close(responses); }()\n",
    "\n",
    "for r := range responses {\n",
    "    fmt.Printf(\"%s: %s\\n\", r.Request.URL, r.Status)\n",
    "}"
   ]
  },
  {
   "cell_type": "markdown",
   "metadata": {
    "deletable": true,
    "editable": true,
    "slideshow": {
     "slide_type": "subslide"
    }
   },
   "source": [
    "## 串联channel（pipeline）"
   ]
  },
  {
   "cell_type": "markdown",
   "metadata": {
    "deletable": true,
    "editable": true,
    "slideshow": {
     "slide_type": "fragment"
    }
   },
   "source": [
    "![](three-stage-pipeline.png)"
   ]
  },
  {
   "cell_type": "code",
   "execution_count": 21,
   "metadata": {
    "collapsed": false,
    "deletable": true,
    "editable": true,
    "slideshow": {
     "slide_type": "fragment"
    }
   },
   "outputs": [
    {
     "data": {
      "text/plain": [
       "0 1 4 9 16 25 36 49 64 81 "
      ]
     },
     "execution_count": 21,
     "metadata": {},
     "output_type": "execute_result"
    }
   ],
   "source": [
    "naturals := make(chan int)\n",
    "squares := make(chan int)\n",
    "\n",
    "// Counter\n",
    "go func() {\n",
    "    for x := 0; x < 10; x++ {\n",
    "        naturals <- x\n",
    "    }\n",
    "    close(naturals)\n",
    "}()\n",
    "\n",
    "// Squarer\n",
    "go func() {\n",
    "    for x := range naturals {\n",
    "        squares <- x * x\n",
    "    }\n",
    "    close(squares)\n",
    "}()\n",
    "\n",
    "// Printer (in main goroutine)\n",
    "for x := range squares {\n",
    "    fmt.Printf(\"%d \", x)\n",
    "}"
   ]
  },
  {
   "cell_type": "markdown",
   "metadata": {
    "deletable": true,
    "editable": true,
    "slideshow": {
     "slide_type": "subslide"
    }
   },
   "source": [
    "## 单向channel\n",
    "- 只能发送：`chan<- int`\n",
    "- 只能接收：`<-chan int`"
   ]
  },
  {
   "cell_type": "code",
   "execution_count": 22,
   "metadata": {
    "collapsed": false,
    "deletable": true,
    "editable": true,
    "slideshow": {
     "slide_type": "fragment"
    }
   },
   "outputs": [
    {
     "data": {
      "text/plain": [
       "0 1 4 9 16 25 36 49 64 81 "
      ]
     },
     "execution_count": 22,
     "metadata": {},
     "output_type": "execute_result"
    }
   ],
   "source": [
    "counter := func(out chan<- int) {\n",
    "    for x := 0; x < 10; x++ {\n",
    "        out <- x\n",
    "    }\n",
    "    close(out)\n",
    "}\n",
    "\n",
    "squarer := func(out chan<- int, in <-chan int) {\n",
    "    for v := range in {\n",
    "        out <- v * v\n",
    "    }\n",
    "    close(out)\n",
    "}\n",
    "\n",
    "printer := func(in <-chan int) {\n",
    "    for v := range in {\n",
    "        fmt.Printf(\"%d \", v)\n",
    "    }\n",
    "}\n",
    "\n",
    "naturals := make(chan int)\n",
    "squares := make(chan int)\n",
    "go counter(naturals)\n",
    "go squarer(squares, naturals)\n",
    "printer(squares)"
   ]
  },
  {
   "cell_type": "markdown",
   "metadata": {
    "collapsed": true,
    "deletable": true,
    "editable": true,
    "slideshow": {
     "slide_type": "subslide"
    }
   },
   "source": [
    "## 多路复用：select"
   ]
  },
  {
   "cell_type": "markdown",
   "metadata": {
    "deletable": true,
    "editable": true,
    "slideshow": {
     "slide_type": "fragment"
    }
   },
   "source": [
    "```Go\n",
    "select {\n",
    "case <-ch1: // 接收并丢弃\n",
    "// ...\n",
    "case x := <-ch2: // 接收\n",
    "// ...use x...\n",
    "case ch3 <- y: // 发送\n",
    "// ...\n",
    "default: // 不阻塞，可以用于实现轮询channel\n",
    "// ...\n",
    "}\n",
    "```"
   ]
  },
  {
   "cell_type": "markdown",
   "metadata": {
    "deletable": true,
    "editable": true,
    "slideshow": {
     "slide_type": "subslide"
    }
   },
   "source": [
    "一发一收，依次执行"
   ]
  },
  {
   "cell_type": "code",
   "execution_count": 23,
   "metadata": {
    "collapsed": false,
    "deletable": true,
    "editable": true,
    "slideshow": {
     "slide_type": "fragment"
    }
   },
   "outputs": [
    {
     "data": {
      "text/plain": [
       "0 2 4 6 8 "
      ]
     },
     "execution_count": 23,
     "metadata": {},
     "output_type": "execute_result"
    }
   ],
   "source": [
    "ch := make(chan int, 1)\n",
    "for i := 0; i < 10; i++ {\n",
    "    select {\n",
    "    case x := <-ch:\n",
    "        fmt.Printf(\"%d \", x) // \"0\" \"2\" \"4\" \"6\" \"8\"\n",
    "    case ch <- i:\n",
    "    }\n",
    "}"
   ]
  },
  {
   "cell_type": "markdown",
   "metadata": {
    "deletable": true,
    "editable": true,
    "slideshow": {
     "slide_type": "subslide"
    }
   },
   "source": [
    "当多个分支同时满足时，**随机**选择一个分支执行"
   ]
  },
  {
   "cell_type": "code",
   "execution_count": 24,
   "metadata": {
    "collapsed": false,
    "deletable": true,
    "editable": true,
    "slideshow": {
     "slide_type": "fragment"
    }
   },
   "outputs": [
    {
     "data": {
      "text/plain": [
       "0 1 3 6 7 "
      ]
     },
     "execution_count": 24,
     "metadata": {},
     "output_type": "execute_result"
    }
   ],
   "source": [
    "ch := make(chan int, 2)\n",
    "for i := 0; i < 10; i++ {\n",
    "    select {\n",
    "    case x := <-ch:\n",
    "        fmt.Printf(\"%d \", x) // \"0\" \"2\" \"4\" \"6\" \"8\"\n",
    "    case ch <- i:\n",
    "    }\n",
    "}"
   ]
  },
  {
   "cell_type": "markdown",
   "metadata": {
    "deletable": true,
    "editable": true,
    "slideshow": {
     "slide_type": "subslide"
    }
   },
   "source": [
    "非阻塞，轮询（从来不应该这么用）"
   ]
  },
  {
   "cell_type": "code",
   "execution_count": 1,
   "metadata": {
    "collapsed": false,
    "deletable": true,
    "editable": true,
    "slideshow": {
     "slide_type": "fragment"
    }
   },
   "outputs": [
    {
     "data": {
      "text/plain": [
       "poll\n",
       "poll\n",
       "poll\n",
       "1\n",
       "2\n",
       "poll\n",
       "poll\n",
       "3\n",
       "4\n",
       "Bye\n"
      ]
     },
     "execution_count": 1,
     "metadata": {},
     "output_type": "execute_result"
    }
   ],
   "source": [
    "import (\n",
    "    \"time\"\n",
    ")\n",
    "\n",
    "func() {\n",
    "    ch := make(chan uint64)\n",
    "\n",
    "    go func() {\n",
    "        ch <- 1\n",
    "        ch <- 1\n",
    "    }()\n",
    "\n",
    "    go func() {\n",
    "        ch <- 1\n",
    "        ch <- 1\n",
    "    }()\n",
    "\n",
    "    var count uint64\n",
    "    for {\n",
    "        select {\n",
    "        case x := <-ch:\n",
    "            count += x\n",
    "            fmt.Println(count)\n",
    "            if count == 4 {\n",
    "                fmt.Println(\"Bye\")\n",
    "                return\n",
    "            }\n",
    "        default:\n",
    "            fmt.Println(\"poll\")\n",
    "            time.Sleep(300*time.Nanosecond)\n",
    "        }\n",
    "    }\n",
    "}()"
   ]
  },
  {
   "cell_type": "markdown",
   "metadata": {
    "deletable": true,
    "editable": true,
    "slideshow": {
     "slide_type": "subslide"
    }
   },
   "source": [
    "实现请求的超时机制"
   ]
  },
  {
   "cell_type": "code",
   "execution_count": 26,
   "metadata": {
    "collapsed": false,
    "deletable": true,
    "editable": true,
    "slideshow": {
     "slide_type": "fragment"
    }
   },
   "outputs": [
    {
     "data": {
      "text/plain": [
       "http://www.qq.com: 200 OK\n",
       "https://www.taobao.com: 200 OK\n",
       "https://www.baidu.com: 200 OK\n"
      ]
     },
     "execution_count": 26,
     "metadata": {},
     "output_type": "execute_result"
    }
   ],
   "source": [
    "import (\n",
    "    \"net/http\"\n",
    "    \"time\"\n",
    ")\n",
    "\n",
    "request := func(url string) *http.Response {\n",
    "    rep, _ := http.Get(url)\n",
    "    return rep\n",
    "}\n",
    "\n",
    "responses := make(chan *http.Response, 3)\n",
    "go func() { responses <- request(\"https://www.baidu.com\") }()\n",
    "go func() { responses <- request(\"https://www.taobao.com\") }()\n",
    "go func() { responses <- request(\"http://www.qq.com\") }()\n",
    "\n",
    "go func() {\n",
    "    select {\n",
    "        case <-time.After(100*time.Millisecond): // 100毫秒超时\n",
    "        close(responses)\n",
    "    }\n",
    "}()\n",
    "\n",
    "func() {\n",
    "    for {\n",
    "        select {\n",
    "        case r := <-responses:\n",
    "            if r == nil {\n",
    "                return\n",
    "            }\n",
    "            fmt.Printf(\"%s: %s\\n\", r.Request.URL, r.Status)\n",
    "        }\n",
    "    }\n",
    "}()"
   ]
  },
  {
   "cell_type": "markdown",
   "metadata": {
    "deletable": true,
    "editable": true,
    "slideshow": {
     "slide_type": "subslide"
    }
   },
   "source": [
    "## 广播并发退出：关闭channel"
   ]
  },
  {
   "cell_type": "code",
   "execution_count": 27,
   "metadata": {
    "collapsed": false,
    "deletable": true,
    "editable": true,
    "slideshow": {
     "slide_type": "fragment"
    }
   },
   "outputs": [
    {
     "data": {
      "text/plain": [
       "1\n",
       "3\n",
       "4\n",
       "2\n",
       "Bye\n",
       "Bye\n"
      ]
     },
     "execution_count": 27,
     "metadata": {},
     "output_type": "execute_result"
    }
   ],
   "source": [
    "import \"time\"\n",
    "\n",
    "ch := make(chan int)\n",
    "\n",
    "go func() {\n",
    "    ch <- 1\n",
    "    ch <- 2\n",
    "}()\n",
    "\n",
    "go func() {\n",
    "    ch <- 3\n",
    "    ch <- 4\n",
    "}()\n",
    "\n",
    "go func() {\n",
    "    time.Sleep(10*time.Millisecond)\n",
    "    close(ch)\n",
    "}()\n",
    "\n",
    "print := func() {\n",
    "    FOR:\n",
    "    for {\n",
    "        select {\n",
    "        case x := <-ch:\n",
    "            if x == 0 {\n",
    "                fmt.Printf(\"Bye\\n\")\n",
    "                break FOR\n",
    "            }\n",
    "            fmt.Println(x)\n",
    "        }\n",
    "    }\n",
    "}\n",
    "\n",
    "go print()\n",
    "go print()\n",
    "\n",
    "time.Sleep(100*time.Millisecond)"
   ]
  },
  {
   "cell_type": "markdown",
   "metadata": {
    "deletable": true,
    "editable": true,
    "slideshow": {
     "slide_type": "slide"
    }
   },
   "source": [
    "# 总结"
   ]
  },
  {
   "cell_type": "markdown",
   "metadata": {
    "deletable": true,
    "editable": true,
    "slideshow": {
     "slide_type": "fragment"
    }
   },
   "source": [
    "简单，只有goroutine和channel"
   ]
  },
  {
   "cell_type": "markdown",
   "metadata": {
    "deletable": true,
    "editable": true,
    "slideshow": {
     "slide_type": "fragment"
    }
   },
   "source": [
    "强大，灵活运用goroutine和channel，搭配原子变量/互斥体/同步设施/条件变量，**才能**写出千变万化的并发程序"
   ]
  },
  {
   "cell_type": "markdown",
   "metadata": {
    "deletable": true,
    "editable": true,
    "slideshow": {
     "slide_type": "fragment"
    }
   },
   "source": [
    "依然是那句老话，高级抽象减少心智负担，但是**从来没有银弹！**"
   ]
  }
 ],
 "metadata": {
  "celltoolbar": "Slideshow",
  "kernelspec": {
   "display_name": "Go",
   "language": "go",
   "name": "gophernotes"
  },
  "language_info": {
   "name": "go"
  }
 },
 "nbformat": 4,
 "nbformat_minor": 2
}
