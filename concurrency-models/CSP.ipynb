{
 "cells": [
  {
   "cell_type": "markdown",
   "metadata": {
    "deletable": true,
    "editable": true,
    "slideshow": {
     "slide_type": "slide"
    }
   },
   "source": [
    "# CSP\n",
    "**通信顺序进程，Communicating Sequential Process**"
   ]
  },
  {
   "cell_type": "markdown",
   "metadata": {
    "deletable": true,
    "editable": true,
    "slideshow": {
     "slide_type": "subslide"
    }
   },
   "source": [
    "- Tony Hoare, 1977\n",
    "- A concurrent programming language\n",
    "- A process calculi/algebra"
   ]
  },
  {
   "cell_type": "markdown",
   "metadata": {
    "collapsed": true,
    "deletable": true,
    "editable": true,
    "slideshow": {
     "slide_type": "subslide"
    }
   },
   "source": [
    "- 不关注发送消息的**process（进程/主体）**\n",
    "- 关注发送消息时使用的**channel（通道）**"
   ]
  },
  {
   "cell_type": "markdown",
   "metadata": {
    "deletable": true,
    "editable": true,
    "slideshow": {
     "slide_type": "subslide"
    }
   },
   "source": [
    "- process类似于Actor模型中的Actor，channel类似于Mailbox\n",
    "- channel是一级对象，不与process紧耦合，而Mailbox是绑定至Actor的\n",
    "- channel可以单独创建和读写，并在process间传递\n",
    "- process可以没有实体，可以订阅任意个channel或向任意个channel发送消息"
   ]
  },
  {
   "cell_type": "markdown",
   "metadata": {
    "deletable": true,
    "editable": true,
    "slideshow": {
     "slide_type": "slide"
    }
   },
   "source": [
    "# Go语言中的Goroutine和Channel"
   ]
  },
  {
   "cell_type": "markdown",
   "metadata": {
    "deletable": true,
    "editable": true,
    "slideshow": {
     "slide_type": "subslide"
    }
   },
   "source": [
    "- 消息通过channel在goroutine之间传递\n",
    "- goroutine是process，是主体\n",
    "- channel是通道"
   ]
  },
  {
   "cell_type": "markdown",
   "metadata": {
    "deletable": true,
    "editable": true,
    "slideshow": {
     "slide_type": "subslide"
    }
   },
   "source": [
    "```Go\n",
    "f() // call f(); wait for it to return\n",
    "go f() // create a new goroutine that calls f(); don't wait\n",
    "```"
   ]
  },
  {
   "cell_type": "markdown",
   "metadata": {
    "deletable": true,
    "editable": true,
    "slideshow": {
     "slide_type": "subslide"
    }
   },
   "source": [
    "```Go\n",
    "ch := make(chan int) // 创建channel，收发int类型消息\n",
    "\n",
    "ch <- x // 发送消息\n",
    "x = <-ch // 接收并赋值消息\n",
    "<-ch // 接收但丢弃消息\n",
    "\n",
    "close(ch) // 关闭channel\n",
    "```"
   ]
  },
  {
   "cell_type": "markdown",
   "metadata": {
    "deletable": true,
    "editable": true,
    "slideshow": {
     "slide_type": "subslide"
    }
   },
   "source": [
    "```Go\n",
    "ch = make(chan int) // 无缓冲channel\n",
    "ch = make(chan int, 0) // 无缓冲channel\n",
    "ch = make(chan int, 3) // 缓冲channel，容量为3\n",
    "```"
   ]
  },
  {
   "cell_type": "markdown",
   "metadata": {
    "deletable": true,
    "editable": true,
    "slideshow": {
     "slide_type": "subslide"
    }
   },
   "source": [
    "**无缓冲channel**，也称为**同步channel**\n",
    "> 在无缓冲channel上的一次发送和接收操作\n",
    ">\n",
    "> 导致发送和接收goroutine做了一次同步操作\n",
    ">\n",
    "> 接收者收到数据发生在唤醒发送者goroutine之前（happens before）"
   ]
  },
  {
   "cell_type": "markdown",
   "metadata": {
    "slideshow": {
     "slide_type": "subslide"
    }
   },
   "source": [
    "**缓冲channel**，可以看作是**消息队列**"
   ]
  },
  {
   "cell_type": "markdown",
   "metadata": {
    "slideshow": {
     "slide_type": "fragment"
    }
   },
   "source": [
    "![](empty-buffered-channel.png)"
   ]
  },
  {
   "cell_type": "code",
   "execution_count": 14,
   "metadata": {
    "collapsed": false,
    "slideshow": {
     "slide_type": "fragment"
    }
   },
   "outputs": [
    {
     "data": {
      "text/plain": [
       "http://www.qq.com: 200 OK\n",
       "https://www.taobao.com: 200 OK\n",
       "https://www.baidu.com: 200 OK\n"
      ]
     },
     "execution_count": 14,
     "metadata": {},
     "output_type": "execute_result"
    }
   ],
   "source": [
    "import (\n",
    "    \"net/http\"\n",
    "    \"time\"\n",
    ")\n",
    "\n",
    "request := func(url string) *http.Response {\n",
    "    rep, _ := http.Get(url)\n",
    "    return rep\n",
    "}\n",
    "\n",
    "responses := make(chan *http.Response, 3)\n",
    "go func() { responses <- request(\"https://www.baidu.com\") }()\n",
    "go func() { responses <- request(\"https://www.taobao.com\") }()\n",
    "go func() { responses <- request(\"http://www.qq.com\") }()\n",
    "go func() { time.Sleep(100*time.Millisecond); close(responses); }()\n",
    "\n",
    "for r := range responses {\n",
    "    fmt.Printf(\"%s: %s\\n\", r.Request.URL, r.Status)\n",
    "}"
   ]
  },
  {
   "cell_type": "markdown",
   "metadata": {
    "slideshow": {
     "slide_type": "subslide"
    }
   },
   "source": [
    "## 串联channel（pipeline）"
   ]
  },
  {
   "cell_type": "markdown",
   "metadata": {
    "deletable": true,
    "editable": true,
    "slideshow": {
     "slide_type": "fragment"
    }
   },
   "source": [
    "![](three-stage-pipeline.png)"
   ]
  },
  {
   "cell_type": "code",
   "execution_count": 1,
   "metadata": {
    "collapsed": false,
    "deletable": true,
    "editable": true,
    "slideshow": {
     "slide_type": "fragment"
    }
   },
   "outputs": [
    {
     "data": {
      "text/plain": [
       "0 1 4 9 16 25 36 49 64 81 "
      ]
     },
     "execution_count": 1,
     "metadata": {},
     "output_type": "execute_result"
    }
   ],
   "source": [
    "naturals := make(chan int)\n",
    "squares := make(chan int)\n",
    "\n",
    "// Counter\n",
    "go func() {\n",
    "    for x := 0; x < 10; x++ {\n",
    "        naturals <- x\n",
    "    }\n",
    "    close(naturals)\n",
    "}()\n",
    "\n",
    "// Squarer\n",
    "go func() {\n",
    "    for x := range naturals {\n",
    "        squares <- x * x\n",
    "    }\n",
    "    close(squares)\n",
    "}()\n",
    "\n",
    "// Printer (in main goroutine)\n",
    "for x := range squares {\n",
    "    fmt.Printf(\"%d \", x)\n",
    "}"
   ]
  },
  {
   "cell_type": "markdown",
   "metadata": {
    "slideshow": {
     "slide_type": "subslide"
    }
   },
   "source": [
    "## 单向channel\n",
    "- 只能发送：```chan<- int```\n",
    "- 只能接收：```<-chan int```"
   ]
  },
  {
   "cell_type": "code",
   "execution_count": 2,
   "metadata": {
    "collapsed": false,
    "deletable": true,
    "editable": true,
    "slideshow": {
     "slide_type": "fragment"
    }
   },
   "outputs": [
    {
     "data": {
      "text/plain": [
       "0 1 4 9 16 25 36 49 64 81 "
      ]
     },
     "execution_count": 2,
     "metadata": {},
     "output_type": "execute_result"
    }
   ],
   "source": [
    "counter := func(out chan<- int) {\n",
    "    for x := 0; x < 10; x++ {\n",
    "        out <- x\n",
    "    }\n",
    "    close(out)\n",
    "}\n",
    "\n",
    "squarer := func(out chan<- int, in <-chan int) {\n",
    "    for v := range in {\n",
    "        out <- v * v\n",
    "    }\n",
    "    close(out)\n",
    "}\n",
    "\n",
    "printer := func(in <-chan int) {\n",
    "    for v := range in {\n",
    "        fmt.Printf(\"%d \", v)\n",
    "    }\n",
    "}\n",
    "\n",
    "naturals := make(chan int)\n",
    "squares := make(chan int)\n",
    "go counter(naturals)\n",
    "go squarer(squares, naturals)\n",
    "printer(squares)"
   ]
  },
  {
   "cell_type": "markdown",
   "metadata": {
    "collapsed": true,
    "deletable": true,
    "editable": true,
    "slideshow": {
     "slide_type": "subslide"
    }
   },
   "source": [
    "## 多路复用：select"
   ]
  },
  {
   "cell_type": "markdown",
   "metadata": {
    "slideshow": {
     "slide_type": "fragment"
    }
   },
   "source": [
    "```Go\n",
    "select {\n",
    "case <-ch1: // 接收并丢弃\n",
    "// ...\n",
    "case x := <-ch2: // 接收\n",
    "// ...use x...\n",
    "case ch3 <- y: // 发送\n",
    "// ...\n",
    "default: // 不阻塞，可以用于实现轮询channel\n",
    "// ...\n",
    "}\n",
    "```"
   ]
  },
  {
   "cell_type": "markdown",
   "metadata": {
    "slideshow": {
     "slide_type": "subslide"
    }
   },
   "source": [
    "一发一收，依次执行"
   ]
  },
  {
   "cell_type": "code",
   "execution_count": 57,
   "metadata": {
    "collapsed": false,
    "slideshow": {
     "slide_type": "fragment"
    }
   },
   "outputs": [
    {
     "data": {
      "text/plain": [
       "0 2 4 6 8 "
      ]
     },
     "execution_count": 57,
     "metadata": {},
     "output_type": "execute_result"
    }
   ],
   "source": [
    "ch := make(chan int, 1)\n",
    "for i := 0; i < 10; i++ {\n",
    "    select {\n",
    "    case x := <-ch:\n",
    "        fmt.Printf(\"%d \", x) // \"0\" \"2\" \"4\" \"6\" \"8\"\n",
    "    case ch <- i:\n",
    "    }\n",
    "}"
   ]
  },
  {
   "cell_type": "markdown",
   "metadata": {
    "slideshow": {
     "slide_type": "subslide"
    }
   },
   "source": [
    "当多个分支同时满足时，**随机**选择一个分支执行"
   ]
  },
  {
   "cell_type": "code",
   "execution_count": 65,
   "metadata": {
    "collapsed": false,
    "slideshow": {
     "slide_type": "fragment"
    }
   },
   "outputs": [
    {
     "data": {
      "text/plain": [
       "0 2 3 6 "
      ]
     },
     "execution_count": 65,
     "metadata": {},
     "output_type": "execute_result"
    }
   ],
   "source": [
    "ch := make(chan int, 2)\n",
    "for i := 0; i < 10; i++ {\n",
    "    select {\n",
    "    case x := <-ch:\n",
    "        fmt.Printf(\"%d \", x) // \"0\" \"2\" \"4\" \"6\" \"8\"\n",
    "    case ch <- i:\n",
    "    }\n",
    "}"
   ]
  },
  {
   "cell_type": "markdown",
   "metadata": {
    "slideshow": {
     "slide_type": "subslide"
    }
   },
   "source": [
    "## 并发退出：关闭channel"
   ]
  },
  {
   "cell_type": "code",
   "execution_count": 1,
   "metadata": {
    "collapsed": false,
    "slideshow": {
     "slide_type": "fragment"
    }
   },
   "outputs": [
    {
     "data": {
      "text/plain": [
       "1 2 3 4 \n",
       "Bye"
      ]
     },
     "execution_count": 1,
     "metadata": {},
     "output_type": "execute_result"
    }
   ],
   "source": [
    "import \"time\"\n",
    "\n",
    "ch := make(chan int)\n",
    "\n",
    "go func() {\n",
    "    ch <- 1\n",
    "    ch <- 2\n",
    "}()\n",
    "\n",
    "go func() {\n",
    "    ch <- 3\n",
    "    ch <- 4\n",
    "}()\n",
    "\n",
    "go func() {\n",
    "    time.Sleep(10*time.Millisecond)\n",
    "    close(ch)\n",
    "}()\n",
    "\n",
    "for {\n",
    "    select {\n",
    "    case x := <-ch:\n",
    "        if x == 0 {\n",
    "            fmt.Printf(\"\\nBye\")\n",
    "            return\n",
    "        }\n",
    "        fmt.Printf(\"%d \", x)\n",
    "    }\n",
    "}"
   ]
  }
 ],
 "metadata": {
  "celltoolbar": "Slideshow",
  "kernelspec": {
   "display_name": "Go",
   "language": "go",
   "name": "gophernotes"
  },
  "language_info": {
   "name": "go"
  }
 },
 "nbformat": 4,
 "nbformat_minor": 2
}
