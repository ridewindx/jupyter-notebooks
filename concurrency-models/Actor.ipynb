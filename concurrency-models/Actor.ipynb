{
 "cells": [
  {
   "cell_type": "markdown",
   "metadata": {
    "collapsed": true,
    "deletable": true,
    "editable": true,
    "slideshow": {
     "slide_type": "slide"
    }
   },
   "source": [
    "# Actor"
   ]
  },
  {
   "cell_type": "markdown",
   "metadata": {
    "slideshow": {
     "slide_type": "subslide"
    }
   },
   "source": [
    "- Carl Hewitt, 1973\n",
    "- A mathematical model of concurrent computation"
   ]
  },
  {
   "cell_type": "markdown",
   "metadata": {
    "slideshow": {
     "slide_type": "subslide"
    }
   },
   "source": [
    "- “一切皆Actor”，高级抽象\n",
    "- Actor类似于对象，包含状态、行为\n",
    "- 每个Actor都有一个Mailbox，用于收发消息\n",
    "- 每个Actor都可以是一个Supervisor，采用特定的监管策略来管理Child Actors的生命周期"
   ]
  },
  {
   "cell_type": "markdown",
   "metadata": {
    "slideshow": {
     "slide_type": "fragment"
    }
   },
   "source": [
    "![](actor.png)"
   ]
  },
  {
   "cell_type": "markdown",
   "metadata": {
    "slideshow": {
     "slide_type": "subslide"
    }
   },
   "source": [
    "Actor的行为：\n",
    "- 发送消息给其它的Actor\n",
    "- 接收并处理消息，计算，修改自己的状态\n",
    "- 创建子Actor"
   ]
  },
  {
   "cell_type": "markdown",
   "metadata": {
    "slideshow": {
     "slide_type": "fragment"
    }
   },
   "source": [
    "![](actors.png)"
   ]
  },
  {
   "cell_type": "markdown",
   "metadata": {
    "slideshow": {
     "slide_type": "subslide"
    }
   },
   "source": [
    "Actor模型的目标：\n",
    "- 无缝弥合本地和远程收发消息，天然分布式\n",
    "- 容错，永不停机，自愈合\n",
    "\n",
    "Actor模型的特点：\n",
    "- Actor是主体，Mailbox是透明的\n",
    "- 只关心消息发送给谁了，不关心消息类型和通道\n",
    "- 通过模式匹配机制做消息处理"
   ]
  },
  {
   "cell_type": "markdown",
   "metadata": {
    "slideshow": {
     "slide_type": "subslide"
    }
   },
   "source": [
    "- Actor模型和CSP模型有点相似，又有一些差异\n",
    "- Actor模型是更高级的抽象，设计目标更大\n",
    "\n",
    "> 问题来了：在Go的goroutine和channel基础上可以实现Actor模型吗？"
   ]
  },
  {
   "cell_type": "markdown",
   "metadata": {
    "slideshow": {
     "slide_type": "slide"
    }
   },
   "source": [
    "**proto.actor**\n",
    "- http://proto.actor/\n",
    "- https://github.com/AsynkronIT/protoactor-go"
   ]
  },
  {
   "cell_type": "markdown",
   "metadata": {
    "slideshow": {
     "slide_type": "subslide"
    }
   },
   "source": [
    "proto.actor的特点：\n",
    "- API简单易用\n",
    "- 网络使用gRPC，分布式使用Consul\n",
    "- 消息格式使用Protobuf，可以跨语言\n",
    "- 每秒几百万个消息，比Akka快6倍"
   ]
  },
  {
   "cell_type": "markdown",
   "metadata": {
    "slideshow": {
     "slide_type": "subslide"
    }
   },
   "source": [
    "Actor监管层次：\n",
    "- 根Actor\n",
    "- 系统级Actor\n",
    "- 用户级Actor"
   ]
  },
  {
   "cell_type": "markdown",
   "metadata": {
    "slideshow": {
     "slide_type": "fragment"
    }
   },
   "source": [
    "![](TopLevelSupervisors.png)"
   ]
  },
  {
   "cell_type": "markdown",
   "metadata": {
    "slideshow": {
     "slide_type": "subslide"
    }
   },
   "source": [
    "Actor容错策略"
   ]
  },
  {
   "cell_type": "markdown",
   "metadata": {
    "slideshow": {
     "slide_type": "fragment"
    }
   },
   "source": [
    "![](OneForOne.png)"
   ]
  },
  {
   "cell_type": "markdown",
   "metadata": {
    "slideshow": {
     "slide_type": "fragment"
    }
   },
   "source": [
    "![](AllForOne.png)"
   ]
  },
  {
   "cell_type": "markdown",
   "metadata": {
    "slideshow": {
     "slide_type": "subslide"
    }
   },
   "source": [
    "本地收发消息"
   ]
  },
  {
   "cell_type": "code",
   "execution_count": 9,
   "metadata": {
    "collapsed": false,
    "slideshow": {
     "slide_type": "fragment"
    }
   },
   "outputs": [
    {
     "ename": "Error",
     "evalue": "",
     "output_type": "error",
     "traceback": [
      ""
     ]
    }
   ],
   "source": [
    "import (\n",
    "    \"github.com/AsynkronIT/goconsole\"\n",
    "    \"github.com/AsynkronIT/protoactor-go/actor\"\n",
    ")\n",
    "\n",
    "type Hello struct{ Who string }\n",
    "type HelloActor struct{}\n",
    "\n",
    "func (state *HelloActor) Receive(context actor.Context) {\n",
    "    switch msg := context.Message().(type) {\n",
    "    case Hello:\n",
    "        fmt.Printf(\"Hello %v\\n\", msg.Who)\n",
    "    }\n",
    "}\n",
    "\n",
    "func main() {\n",
    "    props := actor.FromInstance(&HelloActor{})\n",
    "    pid := actor.Spawn(props)\n",
    "    pid.Tell(Hello{Who: \"Roger\"})\n",
    "    console.ReadLine()\n",
    "}"
   ]
  },
  {
   "cell_type": "markdown",
   "metadata": {
    "slideshow": {
     "slide_type": "subslide"
    }
   },
   "source": [
    "Actor生命周期事件消息"
   ]
  },
  {
   "cell_type": "code",
   "execution_count": 10,
   "metadata": {
    "collapsed": false,
    "slideshow": {
     "slide_type": "fragment"
    }
   },
   "outputs": [
    {
     "ename": "Error",
     "evalue": "",
     "output_type": "error",
     "traceback": [
      ""
     ]
    }
   ],
   "source": [
    "type Hello struct{ Who string }\n",
    "type HelloActor struct{}\n",
    "\n",
    "func (state *HelloActor) Receive(context actor.Context) {\n",
    "    switch msg := context.Message().(type) {\n",
    "    case *actor.Started:\n",
    "        fmt.Println(\"Started, initialize actor here\")\n",
    "    case *actor.Stopping:\n",
    "        fmt.Println(\"Stopping, actor is about shut down\")\n",
    "    case *actor.Stopped:\n",
    "        fmt.Println(\"Stopped, actor and its children are stopped\")\n",
    "    case *actor.Restarting:\n",
    "        fmt.Println(\"Restarting, actor is about restart\")\n",
    "    case Hello:\n",
    "        fmt.Printf(\"Hello %v\\n\", msg.Who)\n",
    "    }\n",
    "}\n",
    "\n",
    "func main() {\n",
    "    props := actor.FromInstance(&HelloActor{})\n",
    "    actor := actor.Spawn(props)\n",
    "    actor.Tell(Hello{Who: \"Roger\"})\n",
    "\n",
    "    time.Sleep(1 * time.Second)\n",
    "    actor.Stop()\n",
    "\n",
    "    console.ReadLine()\n",
    "}"
   ]
  }
 ],
 "metadata": {
  "celltoolbar": "Slideshow",
  "kernelspec": {
   "display_name": "Go",
   "language": "go",
   "name": "gophernotes"
  },
  "language_info": {
   "name": "go"
  }
 },
 "nbformat": 4,
 "nbformat_minor": 2
}
