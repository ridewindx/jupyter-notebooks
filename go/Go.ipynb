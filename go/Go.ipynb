{
 "cells": [
  {
   "cell_type": "markdown",
   "metadata": {
    "slideshow": {
     "slide_type": "slide"
    }
   },
   "source": [
    "# Go语言：制霸云计算时代"
   ]
  },
  {
   "cell_type": "markdown",
   "metadata": {
    "slideshow": {
     "slide_type": "slide"
    }
   },
   "source": [
    "## Go 2016在线调查报告\n",
    "> By Go官方，2017.3.6\n",
    "> https://blog.golang.org/survey2016-results"
   ]
  },
  {
   "cell_type": "markdown",
   "metadata": {
    "slideshow": {
     "slide_type": "subslide"
    }
   },
   "source": [
    "### Go开发者国家分布\n",
    "\n",
    "![](survey-country-reside.png)"
   ]
  },
  {
   "cell_type": "markdown",
   "metadata": {
    "slideshow": {
     "slide_type": "subslide"
    }
   },
   "source": [
    "### Go应用领域\n",
    "\n",
    "![](survey-areas.png)"
   ]
  },
  {
   "cell_type": "markdown",
   "metadata": {
    "slideshow": {
     "slide_type": "subslide"
    }
   },
   "source": [
    "### 偏好Go或其它语言的比例\n",
    "\n",
    "![](survey-language-preference.png)"
   ]
  },
  {
   "cell_type": "markdown",
   "metadata": {
    "slideshow": {
     "slide_type": "subslide"
    }
   },
   "source": [
    "## Go的特点\n",
    "\n",
    "- 简单易用\n",
    "- 并发\n",
    "- 性能\n",
    "- 工具链"
   ]
  },
  {
   "cell_type": "markdown",
   "metadata": {
    "slideshow": {
     "slide_type": "subslide"
    }
   },
   "source": [
    "## Go目前缺失的或不够好的\n",
    "\n",
    "- 泛型\n",
    "- 包版本管理\n",
    "- 包依赖管理"
   ]
  },
  {
   "cell_type": "markdown",
   "metadata": {},
   "source": [
    "## Go 2017可能的改变\n",
    "\n",
    "> https://research.swtch.com/go2017"
   ]
  },
  {
   "cell_type": "markdown",
   "metadata": {},
   "source": [
    "- 动态语言：（修改-测试）循环\n",
    "- 静态语言：（修改-编译-测试）循环"
   ]
  },
  {
   "cell_type": "markdown",
   "metadata": {},
   "source": [
    "## 工具链"
   ]
  },
  {
   "cell_type": "markdown",
   "metadata": {},
   "source": [
    "### Data Race Detector\n",
    "\n",
    "https://golang.org/doc/articles/race_detector.html"
   ]
  },
  {
   "cell_type": "markdown",
   "metadata": {},
   "source": [
    "- https://blog.gopheracademy.com/advent-2016/saga-go-dependency-management/\n",
    "- https://research.swtch.com/go2017\n",
    "- https://www.zhihu.com/question/52177662\n",
    "- https://github.com/golang/proposal/blob/master/design/15292-generics.md"
   ]
  }
 ],
 "metadata": {
  "celltoolbar": "Slideshow",
  "kernelspec": {
   "display_name": "Python 3",
   "language": "python",
   "name": "python3"
  },
  "language_info": {
   "codemirror_mode": {
    "name": "ipython",
    "version": 3
   },
   "file_extension": ".py",
   "mimetype": "text/x-python",
   "name": "python",
   "nbconvert_exporter": "python",
   "pygments_lexer": "ipython3",
   "version": "3.6.1"
  }
 },
 "nbformat": 4,
 "nbformat_minor": 2
}
