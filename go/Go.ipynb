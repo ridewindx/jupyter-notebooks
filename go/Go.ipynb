{
 "cells": [
  {
   "cell_type": "markdown",
   "metadata": {
    "slideshow": {
     "slide_type": "slide"
    }
   },
   "source": [
    "# Go语言：制霸云计算时代"
   ]
  },
  {
   "cell_type": "markdown",
   "metadata": {},
   "source": [
    "## Gopher 囊地鼠（产自北美的一种地鼠）"
   ]
  },
  {
   "cell_type": "markdown",
   "metadata": {
    "slideshow": {
     "slide_type": "slide"
    }
   },
   "source": [
    "## Go 2016在线调查报告\n",
    "> By Go官方，2017.3.6\n",
    "> https://blog.golang.org/survey2016-results"
   ]
  },
  {
   "cell_type": "markdown",
   "metadata": {
    "slideshow": {
     "slide_type": "subslide"
    }
   },
   "source": [
    "### Go开发者国家分布\n",
    "\n",
    "![](survey-country-reside.png)"
   ]
  },
  {
   "cell_type": "markdown",
   "metadata": {
    "slideshow": {
     "slide_type": "subslide"
    }
   },
   "source": [
    "### Go应用领域\n",
    "\n",
    "![](survey-areas.png)"
   ]
  },
  {
   "cell_type": "markdown",
   "metadata": {
    "slideshow": {
     "slide_type": "subslide"
    }
   },
   "source": [
    "### 偏好Go或其它语言的比例\n",
    "\n",
    "![](survey-language-preference.png)"
   ]
  },
  {
   "cell_type": "markdown",
   "metadata": {
    "slideshow": {
     "slide_type": "subslide"
    }
   },
   "source": [
    "## Go的特点\n",
    "\n",
    "- 简单易用\n",
    "- 并发\n",
    "- 性能\n",
    "- 工具链"
   ]
  },
  {
   "cell_type": "markdown",
   "metadata": {
    "slideshow": {
     "slide_type": "subslide"
    }
   },
   "source": [
    "## Go目前缺失的或不够好的\n",
    "\n",
    "- 泛型\n",
    "- 包版本管理\n",
    "- 包依赖管理"
   ]
  },
  {
   "cell_type": "markdown",
   "metadata": {},
   "source": [
    "## Go 2017可能的改变\n",
    "\n",
    "> https://research.swtch.com/go2017"
   ]
  },
  {
   "cell_type": "markdown",
   "metadata": {},
   "source": [
    "- 动态语言：（修改-测试）循环\n",
    "- 静态语言：（修改-编译-测试）循环"
   ]
  },
  {
   "cell_type": "markdown",
   "metadata": {},
   "source": [
    "## 工具链"
   ]
  },
  {
   "cell_type": "markdown",
   "metadata": {},
   "source": [
    "### Data Race Detector\n",
    "\n",
    "https://golang.org/doc/articles/race_detector.html"
   ]
  },
  {
   "cell_type": "markdown",
   "metadata": {},
   "source": [
    "- https://blog.gopheracademy.com/advent-2016/saga-go-dependency-management/\n",
    "- https://research.swtch.com/go2017\n",
    "- https://www.zhihu.com/question/52177662\n",
    "- https://github.com/golang/proposal/blob/master/design/15292-generics.md"
   ]
  },
  {
   "cell_type": "markdown",
   "metadata": {},
   "source": [
    "## 杀手级应用/库对比\n",
    "\n",
    "> 统计自Github Star Ranking http://github-rank.com/star\n",
    "\n",
    "| Python&nbsp;&nbsp;&nbsp;&nbsp;&nbsp;&nbsp;&nbsp;&nbsp;&nbsp;&nbsp;&nbsp;&nbsp;&nbsp;&nbsp;&nbsp;&nbsp;&nbsp;&nbsp;&nbsp;&nbsp;&nbsp;&nbsp;&nbsp;&nbsp;&nbsp;&nbsp;&nbsp;&nbsp;&nbsp;&nbsp; | &nbsp;&nbsp;&nbsp;&nbsp;&nbsp;&nbsp;&nbsp;&nbsp;&nbsp;&nbsp;&nbsp;&nbsp;&nbsp;&nbsp;&nbsp; | Go&nbsp;&nbsp;&nbsp;&nbsp;&nbsp;&nbsp;&nbsp;&nbsp;&nbsp;&nbsp;&nbsp;&nbsp;&nbsp;&nbsp;&nbsp;&nbsp;&nbsp;&nbsp;&nbsp;&nbsp;&nbsp;&nbsp;&nbsp;&nbsp;&nbsp;&nbsp;&nbsp;&nbsp;&nbsp;&nbsp;&nbsp;&nbsp;&nbsp;&nbsp; | &nbsp;&nbsp;&nbsp;&nbsp;&nbsp;&nbsp;&nbsp;&nbsp;&nbsp;&nbsp;&nbsp;&nbsp;&nbsp;&nbsp;&nbsp; | C++&nbsp;&nbsp;&nbsp;&nbsp;&nbsp;&nbsp;&nbsp;&nbsp;&nbsp;&nbsp;&nbsp;&nbsp;&nbsp;&nbsp;&nbsp;&nbsp;&nbsp;&nbsp;&nbsp;&nbsp;&nbsp;&nbsp;&nbsp;&nbsp;&nbsp;&nbsp;&nbsp;&nbsp;&nbsp;&nbsp;&nbsp;&nbsp;&nbsp; | &nbsp;&nbsp;&nbsp;&nbsp;&nbsp;&nbsp;&nbsp;&nbsp;&nbsp;&nbsp;&nbsp;&nbsp;&nbsp;&nbsp;&nbsp; |\n",
    "| ------------- | ------------- | ------------- | ------------- | ------------- | ------------- |\n",
    "| **Repo** | **Stars**  | **Repo** | **Stars**  | **Repo** | **Stars**  |\n",
    "| httpie | 30006 | moby | 44069 | tensorflow | 60289 |\n",
    "| thefuck | 28389 | kubernetes | 23916 | electron | 46777 |\n",
    "| flask | 27550 | lantern | 23560 | swift | 38839 |\n",
    "| youtube-dl | 26559 | gogs | 19461 | nw.js | 31673 |\n",
    "| django | 26178 | hugo | 17620 | rethinkdb | 19117 |\n",
    "| requests | 25445 | grafana | 16313 | caffe | 18418 |\n",
    "| ansible | 23642 | syncthing | 16265 | protobuf | 17909 |\n",
    "| scrapy | 20971 | etcd | 13681 | opencv | 16159 |\n",
    "| scikit-learn | 19110 | caddy | 12593 | hhvm | 14584 |\n",
    "| certbot | 18718 | beego | 11193 | bitcoin | 13332 |\n",
    "| shadowsocks | 18017 | hub | 10798 | mongo | 11661|\n",
    "|system-design-primer | 17297 | influxdb | 10773 | CNTK | 11311 |\n",
    "| keras | 16442 | cockroach |10471 | tesseract | 10953 |\n",
    "| models(tensorflow) | 15641 | gin | 10270 | cocos2d-x | 10364 |\n",
    "| XX-Net | 14683 | ngrok | 10181 | mxnet | 9979 |\n",
    "| superset | 14386 | cayley | 10153 | guetzli | 9849 |\n",
    "| YouCompleteMe | 14011 | prometheus | 9963 | fastText | 9640 |\n",
    "| tornado | 13662 | drone | 9903 | leveldb | 9578 |\n",
    "| you-get | 13283 | nsq | 9503 | osquery | 9189 |\n",
    "| reddit | 13253 | martini | 9413 | mars | 8917 |"
   ]
  },
  {
   "cell_type": "markdown",
   "metadata": {},
   "source": [
    "## Go包管理"
   ]
  },
  {
   "cell_type": "markdown",
   "metadata": {},
   "source": [
    "## Go IDE: Gogland\n",
    "\n",
    "- 史上最准确的Go To Declaration/Implementation\n",
    "- 史上最准确的Auto Completion\n",
    "- 史上最准确的Refactoring"
   ]
  },
  {
   "cell_type": "markdown",
   "metadata": {
    "collapsed": true
   },
   "source": [
    "## Go最佳实践\n",
    "\n",
    "- 多**读**多**用**Go标准库\n",
    "- 尽量保持**Pure** Go，不使用Cgo"
   ]
  },
  {
   "cell_type": "markdown",
   "metadata": {},
   "source": [
    "## Go练习项目\n",
    "\n",
    "- Web应用"
   ]
  }
 ],
 "metadata": {
  "celltoolbar": "Slideshow",
  "kernelspec": {
   "display_name": "Python 3",
   "language": "python",
   "name": "python3"
  },
  "language_info": {
   "codemirror_mode": {
    "name": "ipython",
    "version": 3
   },
   "file_extension": ".py",
   "mimetype": "text/x-python",
   "name": "python",
   "nbconvert_exporter": "python",
   "pygments_lexer": "ipython3",
   "version": "3.6.1"
  }
 },
 "nbformat": 4,
 "nbformat_minor": 2
}
